{
  "nbformat": 4,
  "nbformat_minor": 0,
  "metadata": {
    "colab": {
      "provenance": []
    },
    "kernelspec": {
      "name": "python3",
      "display_name": "Python 3"
    },
    "language_info": {
      "name": "python"
    }
  },
  "cells": [
    {
      "cell_type": "code",
      "execution_count": null,
      "metadata": {
        "id": "FNCiLwlpunKl"
      },
      "outputs": [],
      "source": [
        "from sklearn.linear_model import LogisticRegression\n",
        "from sklearn import metrics\n",
        "import numpy as np\n",
        "import pandas as pd\n",
        "\n",
        "# Read in loan data from a CSV file\n",
        "df = pd.read_csv('loan_data_created.csv')\n",
        "\n",
        "# Define the variable features\n",
        "features = ['credit_lines_outstanding', 'debt_to_income', 'payment_to_income', 'years_employed', 'fico_score']\n",
        "\n",
        "# Calculate the payment_to_income ratio\n",
        "df['payment_to_income'] = df['loan_amt_outstanding'] / df['income']\n",
        "\n",
        "# Calculate the debt_to_income ratio\n",
        "df['debt_to_income'] = df['total_debt_outstanding'] / df['income']\n",
        "\n",
        "clf = LogisticRegression(random_state=0, solver='liblinear', tol=1e-5, max_iter=10000).fit(df[features], df['default'])\n",
        "print(clf.coef_, clf.intercept_)\n",
        "\n",
        "# Use the following code to check yourself\n",
        "y_pred = clf.predict(df[features])\n",
        "\n",
        "fpr, tpr, thresholds = metrics.roc_curve(df['default'], y_pred)\n",
        "print((1.0*(abs(df['default']-y_pred)).sum()) / len(df))\n",
        "print(metrics.auc(fpr, tpr))\n"
      ]
    }
  ]
}